{
 "cells": [
  {
   "cell_type": "code",
   "execution_count": 1,
   "metadata": {
    "_cell_guid": "b1076dfc-b9ad-4769-8c92-a6c4dae69d19",
    "_uuid": "8f2839f25d086af736a60e9eeb907d3b93b6e0e5",
    "execution": {
     "iopub.execute_input": "2025-04-05T16:04:34.418114Z",
     "iopub.status.busy": "2025-04-05T16:04:34.417815Z",
     "iopub.status.idle": "2025-04-05T16:04:34.422726Z",
     "shell.execute_reply": "2025-04-05T16:04:34.421869Z",
     "shell.execute_reply.started": "2025-04-05T16:04:34.418091Z"
    },
    "trusted": true
   },
   "outputs": [
    {
     "name": "stderr",
     "output_type": "stream",
     "text": [
      "c:\\Users\\Dell\\anaconda3\\envs\\ml\\Lib\\site-packages\\torch\\utils\\_pytree.py:173: FutureWarning: optree is installed but the version is too old to support PyTorch Dynamo in C++ pytree. C++ pytree support is disabled. Please consider upgrading optree using `python3 -m pip install --upgrade 'optree>=0.13.0'`.\n",
      "  warnings.warn(\n"
     ]
    }
   ],
   "source": [
    "import torch\n",
    "import torch.nn as nn\n",
    "import torchvision.transforms as transforms\n",
    "import torchvision.datasets as dsets\n",
    "from torch.autograd import Variable\n",
    "import os\n",
    "import matplotlib.pyplot as plt\n",
    "import random\n",
    "from sklearn.model_selection import train_test_split\n",
    "import shutil\n",
    "import torch.optim as optim\n",
    "import numpy as np\n",
    "from sklearn.metrics import confusion_matrix, classification_report"
   ]
  },
  {
   "cell_type": "code",
   "execution_count": 2,
   "metadata": {
    "execution": {
     "iopub.execute_input": "2025-04-05T16:04:34.425570Z",
     "iopub.status.busy": "2025-04-05T16:04:34.425328Z",
     "iopub.status.idle": "2025-04-05T16:04:34.440324Z",
     "shell.execute_reply": "2025-04-05T16:04:34.439460Z",
     "shell.execute_reply.started": "2025-04-05T16:04:34.425540Z"
    },
    "trusted": true
   },
   "outputs": [
    {
     "data": {
      "text/plain": [
       "device(type='cuda', index=0)"
      ]
     },
     "execution_count": 2,
     "metadata": {},
     "output_type": "execute_result"
    }
   ],
   "source": [
    "# Đưa model vào GPU\n",
    "device = torch.device(\"cuda:0\" if torch.cuda.is_available() else \"cpu\")\n",
    "device"
   ]
  },
  {
   "cell_type": "code",
   "execution_count": 3,
   "metadata": {
    "execution": {
     "iopub.execute_input": "2025-04-05T16:04:34.441476Z",
     "iopub.status.busy": "2025-04-05T16:04:34.441270Z",
     "iopub.status.idle": "2025-04-05T16:04:34.457346Z",
     "shell.execute_reply": "2025-04-05T16:04:34.456354Z",
     "shell.execute_reply.started": "2025-04-05T16:04:34.441459Z"
    },
    "trusted": true
   },
   "outputs": [
    {
     "name": "stdout",
     "output_type": "stream",
     "text": [
      "False\n"
     ]
    }
   ],
   "source": [
    "print(os.path.exists(r'train'))"
   ]
  },
  {
   "cell_type": "code",
   "execution_count": 4,
   "metadata": {
    "execution": {
     "iopub.execute_input": "2025-04-05T16:04:34.459119Z",
     "iopub.status.busy": "2025-04-05T16:04:34.458841Z",
     "iopub.status.idle": "2025-04-05T16:04:34.473882Z",
     "shell.execute_reply": "2025-04-05T16:04:34.473241Z",
     "shell.execute_reply.started": "2025-04-05T16:04:34.459090Z"
    },
    "trusted": true
   },
   "outputs": [
    {
     "name": "stderr",
     "output_type": "stream",
     "text": [
      "Cloning into 'data'...\n",
      "Updating files:  17% (1441/8400)\n",
      "Updating files:  18% (1512/8400)\n",
      "Updating files:  19% (1596/8400)\n",
      "Updating files:  20% (1680/8400)\n",
      "Updating files:  21% (1764/8400)\n",
      "Updating files:  22% (1848/8400)\n",
      "Updating files:  23% (1932/8400)\n",
      "Updating files:  24% (2016/8400)\n",
      "Updating files:  25% (2100/8400)\n",
      "Updating files:  26% (2184/8400)\n",
      "Updating files:  27% (2268/8400)\n",
      "Updating files:  28% (2352/8400)\n",
      "Updating files:  29% (2436/8400)\n",
      "Updating files:  30% (2520/8400)\n",
      "Updating files:  31% (2604/8400)\n",
      "Updating files:  32% (2688/8400)\n",
      "Updating files:  33% (2772/8400)\n",
      "Updating files:  34% (2856/8400)\n",
      "Updating files:  35% (2940/8400)\n",
      "Updating files:  36% (3024/8400)\n",
      "Updating files:  36% (3104/8400)\n",
      "Updating files:  37% (3108/8400)\n",
      "Updating files:  38% (3192/8400)\n",
      "Updating files:  39% (3276/8400)\n",
      "Updating files:  40% (3360/8400)\n",
      "Updating files:  41% (3444/8400)\n",
      "Updating files:  42% (3528/8400)\n",
      "Updating files:  43% (3612/8400)\n",
      "Updating files:  44% (3696/8400)\n",
      "Updating files:  45% (3780/8400)\n",
      "Updating files:  46% (3864/8400)\n",
      "Updating files:  47% (3948/8400)\n",
      "Updating files:  48% (4032/8400)\n",
      "Updating files:  49% (4116/8400)\n",
      "Updating files:  50% (4200/8400)\n",
      "Updating files:  51% (4284/8400)\n",
      "Updating files:  52% (4368/8400)\n",
      "Updating files:  52% (4443/8400)\n",
      "Updating files:  53% (4452/8400)\n",
      "Updating files:  54% (4536/8400)\n",
      "Updating files:  55% (4620/8400)\n",
      "Updating files:  56% (4704/8400)\n",
      "Updating files:  57% (4788/8400)\n",
      "Updating files:  58% (4872/8400)\n",
      "Updating files:  59% (4956/8400)\n",
      "Updating files:  60% (5040/8400)\n",
      "Updating files:  61% (5124/8400)\n",
      "Updating files:  62% (5208/8400)\n",
      "Updating files:  62% (5291/8400)\n",
      "Updating files:  63% (5292/8400)\n",
      "Updating files:  64% (5376/8400)\n",
      "Updating files:  65% (5460/8400)\n",
      "Updating files:  66% (5544/8400)\n",
      "Updating files:  67% (5628/8400)\n",
      "Updating files:  68% (5712/8400)\n",
      "Updating files:  69% (5796/8400)\n",
      "Updating files:  70% (5880/8400)\n",
      "Updating files:  71% (5964/8400)\n",
      "Updating files:  72% (6048/8400)\n",
      "Updating files:  73% (6132/8400)\n",
      "Updating files:  74% (6216/8400)\n",
      "Updating files:  75% (6300/8400)\n",
      "Updating files:  76% (6384/8400)\n",
      "Updating files:  77% (6468/8400)\n",
      "Updating files:  77% (6479/8400)\n",
      "Updating files:  78% (6552/8400)\n",
      "Updating files:  79% (6636/8400)\n",
      "Updating files:  80% (6720/8400)\n",
      "Updating files:  81% (6804/8400)\n",
      "Updating files:  82% (6888/8400)\n",
      "Updating files:  83% (6972/8400)\n",
      "Updating files:  84% (7056/8400)\n",
      "Updating files:  85% (7140/8400)\n",
      "Updating files:  86% (7224/8400)\n",
      "Updating files:  87% (7308/8400)\n",
      "Updating files:  88% (7392/8400)\n",
      "Updating files:  89% (7476/8400)\n",
      "Updating files:  90% (7560/8400)\n",
      "Updating files:  91% (7644/8400)\n",
      "Updating files:  92% (7728/8400)\n",
      "Updating files:  93% (7812/8400)\n",
      "Updating files:  94% (7896/8400)\n",
      "Updating files:  94% (7965/8400)\n",
      "Updating files:  95% (7980/8400)\n",
      "Updating files:  96% (8064/8400)\n",
      "Updating files:  97% (8148/8400)\n",
      "Updating files:  98% (8232/8400)\n",
      "Updating files:  99% (8316/8400)\n",
      "Updating files: 100% (8400/8400)\n",
      "Updating files: 100% (8400/8400), done.\n"
     ]
    }
   ],
   "source": [
    "if not os.path.exists(\"data\"):\n",
    "    !git clone https://github.com/Bunhiacopxki/data.git"
   ]
  },
  {
   "cell_type": "code",
   "execution_count": 5,
   "metadata": {
    "execution": {
     "iopub.execute_input": "2025-04-05T16:04:34.475398Z",
     "iopub.status.busy": "2025-04-05T16:04:34.475108Z",
     "iopub.status.idle": "2025-04-05T16:04:34.490600Z",
     "shell.execute_reply": "2025-04-05T16:04:34.489993Z",
     "shell.execute_reply.started": "2025-04-05T16:04:34.475355Z"
    },
    "trusted": true
   },
   "outputs": [],
   "source": [
    "transform_train = transforms.Compose([\n",
    "    transforms.Grayscale(num_output_channels=1),\n",
    "    transforms.Resize((36, 36)),                  \n",
    "    transforms.RandomCrop((32, 32), padding=4),     \n",
    "    transforms.RandomHorizontalFlip(),\n",
    "    transforms.RandomRotation(10),\n",
    "    transforms.ColorJitter(brightness=0.2, contrast=0.2),\n",
    "    transforms.ToTensor()\n",
    "])\n",
    "\n",
    "transform_val = transforms.Compose([\n",
    "    transforms.Grayscale(num_output_channels=1),\n",
    "    transforms.Resize((32, 32)),\n",
    "    transforms.ToTensor()\n",
    "])"
   ]
  },
  {
   "cell_type": "code",
   "execution_count": 6,
   "metadata": {
    "execution": {
     "iopub.execute_input": "2025-04-05T16:04:34.491573Z",
     "iopub.status.busy": "2025-04-05T16:04:34.491296Z",
     "iopub.status.idle": "2025-04-05T16:04:34.529498Z",
     "shell.execute_reply": "2025-04-05T16:04:34.528925Z",
     "shell.execute_reply.started": "2025-04-05T16:04:34.491546Z"
    },
    "trusted": true
   },
   "outputs": [],
   "source": [
    "train_set= dsets.ImageFolder(root=r'D:\\HUTECH\\NẤM\\train_augment', transform=transform_train)\n",
    "val_set= dsets.ImageFolder(root=r'D:\\HUTECH\\NẤM\\val_augment', transform=transform_val)"
   ]
  },
  {
   "cell_type": "code",
   "execution_count": 7,
   "metadata": {
    "execution": {
     "iopub.execute_input": "2025-04-05T16:04:34.530419Z",
     "iopub.status.busy": "2025-04-05T16:04:34.530184Z",
     "iopub.status.idle": "2025-04-05T16:04:34.535012Z",
     "shell.execute_reply": "2025-04-05T16:04:34.534131Z",
     "shell.execute_reply.started": "2025-04-05T16:04:34.530400Z"
    },
    "trusted": true
   },
   "outputs": [
    {
     "data": {
      "text/plain": [
       "6000"
      ]
     },
     "execution_count": 7,
     "metadata": {},
     "output_type": "execute_result"
    }
   ],
   "source": [
    "len(train_set)"
   ]
  },
  {
   "cell_type": "code",
   "execution_count": 8,
   "metadata": {
    "execution": {
     "iopub.execute_input": "2025-04-05T16:04:34.537363Z",
     "iopub.status.busy": "2025-04-05T16:04:34.537093Z",
     "iopub.status.idle": "2025-04-05T16:04:34.556131Z",
     "shell.execute_reply": "2025-04-05T16:04:34.555372Z",
     "shell.execute_reply.started": "2025-04-05T16:04:34.537336Z"
    },
    "trusted": true
   },
   "outputs": [
    {
     "data": {
      "text/plain": [
       "1200"
      ]
     },
     "execution_count": 8,
     "metadata": {},
     "output_type": "execute_result"
    }
   ],
   "source": [
    "len(val_set)"
   ]
  },
  {
   "cell_type": "code",
   "execution_count": 9,
   "metadata": {
    "execution": {
     "iopub.execute_input": "2025-04-05T16:04:34.557171Z",
     "iopub.status.busy": "2025-04-05T16:04:34.556962Z",
     "iopub.status.idle": "2025-04-05T16:04:34.571865Z",
     "shell.execute_reply": "2025-04-05T16:04:34.571073Z",
     "shell.execute_reply.started": "2025-04-05T16:04:34.557153Z"
    },
    "trusted": true
   },
   "outputs": [],
   "source": [
    "batch_size = 32\n",
    "n_iters = 12000  # number of times running 1 batch (in summation train:s 3000 batches)\n",
    "num_epochs = int(n_iters / (len(train_set) / batch_size)) # run whole data n times\n",
    "\n",
    "# Divide data into batch to iterate over\n",
    "train_loader = torch.utils.data.DataLoader(dataset=train_set,\n",
    "                                           batch_size=batch_size,\n",
    "                                           shuffle=True)\n",
    "\n",
    "val_loader = torch.utils.data.DataLoader(dataset=val_set,\n",
    "                                          batch_size=batch_size,\n",
    "                                          shuffle=True)"
   ]
  },
  {
   "cell_type": "code",
   "execution_count": 10,
   "metadata": {
    "execution": {
     "iopub.execute_input": "2025-04-05T16:04:34.572831Z",
     "iopub.status.busy": "2025-04-05T16:04:34.572609Z",
     "iopub.status.idle": "2025-04-05T16:04:34.618844Z",
     "shell.execute_reply": "2025-04-05T16:04:34.618177Z",
     "shell.execute_reply.started": "2025-04-05T16:04:34.572803Z"
    },
    "trusted": true
   },
   "outputs": [
    {
     "name": "stdout",
     "output_type": "stream",
     "text": [
      "Inputs shape: torch.Size([32, 1, 32, 32])\n",
      "Labels shape: torch.Size([32])\n"
     ]
    }
   ],
   "source": [
    "# Info of each batch\n",
    "# samples x channels (1 or 3 RGB) x height x width\n",
    "for inputs, labels in train_loader:\n",
    "    print(\"Inputs shape:\", inputs.shape)\n",
    "    print(\"Labels shape:\", labels.shape)\n",
    "    break  # Inspect only the first batch"
   ]
  },
  {
   "cell_type": "code",
   "execution_count": 11,
   "metadata": {
    "execution": {
     "iopub.execute_input": "2025-04-05T16:04:34.620324Z",
     "iopub.status.busy": "2025-04-05T16:04:34.620038Z",
     "iopub.status.idle": "2025-04-05T16:04:34.627255Z",
     "shell.execute_reply": "2025-04-05T16:04:34.626494Z",
     "shell.execute_reply.started": "2025-04-05T16:04:34.620304Z"
    },
    "trusted": true
   },
   "outputs": [],
   "source": [
    "class CNNModel(nn.Module):\n",
    "    def __init__(self, num_classes=4):\n",
    "        super(CNNModel, self).__init__()\n",
    "        self.conv_layers = nn.Sequential(\n",
    "            # Convolution 1\n",
    "            nn.Conv2d(in_channels=1, out_channels=8, kernel_size=3, stride=1, padding=1),\n",
    "            nn.BatchNorm2d(8),\n",
    "            nn.ReLU(),\n",
    "            \n",
    "            # Convolution 2\n",
    "            nn.Conv2d(in_channels=8, out_channels=16, kernel_size=3, stride=1, padding=1),\n",
    "            nn.BatchNorm2d(16),\n",
    "            nn.ReLU(),\n",
    "            nn.MaxPool2d(kernel_size=2),\n",
    "            nn.Dropout(0.2),\n",
    "            \n",
    "            # Convolution 3\n",
    "            nn.Conv2d(in_channels=16, out_channels=32, kernel_size=3, stride=1, padding=1),\n",
    "            nn.BatchNorm2d(32),\n",
    "            nn.ReLU(),\n",
    "            nn.MaxPool2d(kernel_size=2),\n",
    "            \n",
    "            # Convolution 4\n",
    "            nn.Conv2d(in_channels=32, out_channels=64, kernel_size=3, stride=1, padding=1),\n",
    "            nn.BatchNorm2d(64),\n",
    "            nn.ReLU(),\n",
    "            nn.MaxPool2d(kernel_size=2),\n",
    "            nn.Dropout(0.3)\n",
    "        )\n",
    "        # Sử dụng AdaptiveAvgPool2d để đảm bảo đầu ra có kích thước cố định\n",
    "        self.avgpool = nn.AdaptiveAvgPool2d((8, 8))\n",
    "        flatten_size = 64 * 8 * 8\n",
    "        \n",
    "        self.classifier = nn.Sequential(\n",
    "            nn.Linear(flatten_size, 512),\n",
    "            nn.ReLU(),\n",
    "            nn.Dropout(0.2),\n",
    "            nn.Linear(512, num_classes)\n",
    "        )\n",
    "    \n",
    "    def forward(self, x):\n",
    "        x = self.conv_layers(x)\n",
    "        x = self.avgpool(x)\n",
    "        x = x.view(x.size(0), -1)\n",
    "        x = self.classifier(x)\n",
    "        return x"
   ]
  },
  {
   "cell_type": "code",
   "execution_count": null,
   "metadata": {
    "execution": {
     "iopub.execute_input": "2025-04-05T16:04:34.628732Z",
     "iopub.status.busy": "2025-04-05T16:04:34.628442Z",
     "iopub.status.idle": "2025-04-05T16:04:34.668355Z",
     "shell.execute_reply": "2025-04-05T16:04:34.667722Z",
     "shell.execute_reply.started": "2025-04-05T16:04:34.628706Z"
    },
    "trusted": true
   },
   "outputs": [],
   "source": [
    "model = CNNModel(num_classes=4)\n",
    "\n",
    "# Loss và Optimizer\n",
    "criterion = nn.CrossEntropyLoss()\n",
    "learning_rate = 0.001\n",
    "optimizer = torch.optim.Adam(model.parameters(), lr=learning_rate, weight_decay=1e-4)"
   ]
  },
  {
   "cell_type": "code",
   "execution_count": 13,
   "metadata": {
    "execution": {
     "iopub.execute_input": "2025-04-05T16:04:34.669208Z",
     "iopub.status.busy": "2025-04-05T16:04:34.669008Z",
     "iopub.status.idle": "2025-04-05T16:04:34.677131Z",
     "shell.execute_reply": "2025-04-05T16:04:34.676431Z",
     "shell.execute_reply.started": "2025-04-05T16:04:34.669191Z"
    },
    "trusted": true
   },
   "outputs": [
    {
     "data": {
      "text/plain": [
       "CNNModel(\n",
       "  (conv_layers): Sequential(\n",
       "    (0): Conv2d(1, 8, kernel_size=(3, 3), stride=(1, 1), padding=(1, 1))\n",
       "    (1): BatchNorm2d(8, eps=1e-05, momentum=0.1, affine=True, track_running_stats=True)\n",
       "    (2): ReLU()\n",
       "    (3): Conv2d(8, 16, kernel_size=(3, 3), stride=(1, 1), padding=(1, 1))\n",
       "    (4): BatchNorm2d(16, eps=1e-05, momentum=0.1, affine=True, track_running_stats=True)\n",
       "    (5): ReLU()\n",
       "    (6): MaxPool2d(kernel_size=2, stride=2, padding=0, dilation=1, ceil_mode=False)\n",
       "    (7): Dropout(p=0.2, inplace=False)\n",
       "    (8): Conv2d(16, 32, kernel_size=(3, 3), stride=(1, 1), padding=(1, 1))\n",
       "    (9): BatchNorm2d(32, eps=1e-05, momentum=0.1, affine=True, track_running_stats=True)\n",
       "    (10): ReLU()\n",
       "    (11): MaxPool2d(kernel_size=2, stride=2, padding=0, dilation=1, ceil_mode=False)\n",
       "    (12): Conv2d(32, 64, kernel_size=(3, 3), stride=(1, 1), padding=(1, 1))\n",
       "    (13): BatchNorm2d(64, eps=1e-05, momentum=0.1, affine=True, track_running_stats=True)\n",
       "    (14): ReLU()\n",
       "    (15): MaxPool2d(kernel_size=2, stride=2, padding=0, dilation=1, ceil_mode=False)\n",
       "    (16): Dropout(p=0.3, inplace=False)\n",
       "  )\n",
       "  (avgpool): AdaptiveAvgPool2d(output_size=(8, 8))\n",
       "  (classifier): Sequential(\n",
       "    (0): Linear(in_features=4096, out_features=512, bias=True)\n",
       "    (1): ReLU()\n",
       "    (2): Dropout(p=0.2, inplace=False)\n",
       "    (3): Linear(in_features=512, out_features=4, bias=True)\n",
       "  )\n",
       ")"
      ]
     },
     "execution_count": 13,
     "metadata": {},
     "output_type": "execute_result"
    }
   ],
   "source": [
    "model.to(device)"
   ]
  },
  {
   "cell_type": "code",
   "execution_count": 14,
   "metadata": {
    "execution": {
     "iopub.execute_input": "2025-04-05T16:04:34.678064Z",
     "iopub.status.busy": "2025-04-05T16:04:34.677878Z"
    },
    "trusted": true
   },
   "outputs": [
    {
     "name": "stdout",
     "output_type": "stream",
     "text": [
      "Epoch 1/64, Validation Loss: 1.0745\n",
      "Epoch 2/64, Validation Loss: 0.9646\n",
      "Iteration: 500. Loss: 1.0391. Accuracy: 64.50%\n",
      "Epoch 3/64, Validation Loss: 0.9630\n",
      "Epoch 4/64, Validation Loss: 0.9013\n",
      "Epoch 5/64, Validation Loss: 0.9625\n",
      "Iteration: 1000. Loss: 0.6942. Accuracy: 64.92%\n",
      "Epoch 6/64, Validation Loss: 0.8564\n",
      "Epoch 7/64, Validation Loss: 0.8652\n",
      "Iteration: 1500. Loss: 0.7351. Accuracy: 65.33%\n",
      "Epoch 8/64, Validation Loss: 0.9055\n",
      "Epoch 9/64, Validation Loss: 1.0241\n",
      "Epoch 10/64, Validation Loss: 0.7915\n",
      "Iteration: 2000. Loss: 0.6701. Accuracy: 70.75%\n",
      "Epoch 11/64, Validation Loss: 0.8379\n",
      "Epoch 12/64, Validation Loss: 0.7636\n",
      "Epoch 13/64, Validation Loss: 0.7599\n",
      "Iteration: 2500. Loss: 0.6622. Accuracy: 70.83%\n",
      "Epoch 14/64, Validation Loss: 0.7230\n",
      "Epoch 15/64, Validation Loss: 1.0247\n",
      "Iteration: 3000. Loss: 0.6508. Accuracy: 72.25%\n",
      "Epoch 16/64, Validation Loss: 0.7279\n",
      "Epoch 17/64, Validation Loss: 0.7140\n",
      "Epoch 18/64, Validation Loss: 0.6221\n",
      "Iteration: 3500. Loss: 0.4748. Accuracy: 73.33%\n",
      "Epoch 19/64, Validation Loss: 0.7971\n",
      "Epoch 20/64, Validation Loss: 0.7784\n",
      "Epoch 21/64, Validation Loss: 0.7535\n",
      "Iteration: 4000. Loss: 0.4748. Accuracy: 71.50%\n",
      "Epoch 22/64, Validation Loss: 0.7144\n",
      "Epoch 23/64, Validation Loss: 0.6819\n",
      "Iteration: 4500. Loss: 0.4661. Accuracy: 76.42%\n",
      "Epoch 24/64, Validation Loss: 0.6305\n",
      "Epoch 25/64, Validation Loss: 0.6390\n",
      "Epoch 26/64, Validation Loss: 0.6601\n",
      "Iteration: 5000. Loss: 0.5703. Accuracy: 73.50%\n",
      "Epoch 27/64, Validation Loss: 0.6500\n",
      "Epoch 28/64, Validation Loss: 0.6786\n",
      "Epoch 29/64, Validation Loss: 0.8888\n",
      "Iteration: 5500. Loss: 0.3648. Accuracy: 77.58%\n",
      "Epoch 30/64, Validation Loss: 0.6256\n",
      "Epoch 31/64, Validation Loss: 0.6429\n",
      "Iteration: 6000. Loss: 0.4218. Accuracy: 74.67%\n",
      "Epoch 32/64, Validation Loss: 0.6542\n",
      "Epoch 33/64, Validation Loss: 0.7152\n",
      "Epoch 34/64, Validation Loss: 0.6474\n",
      "Iteration: 6500. Loss: 0.4335. Accuracy: 74.75%\n",
      "Epoch 35/64, Validation Loss: 0.6055\n",
      "Epoch 36/64, Validation Loss: 0.6516\n",
      "Epoch 37/64, Validation Loss: 0.6335\n",
      "Iteration: 7000. Loss: 0.4148. Accuracy: 74.83%\n",
      "Epoch 38/64, Validation Loss: 0.5948\n",
      "Epoch 39/64, Validation Loss: 0.6059\n",
      "Iteration: 7500. Loss: 0.5435. Accuracy: 75.50%\n",
      "Epoch 40/64, Validation Loss: 0.6173\n",
      "Epoch 41/64, Validation Loss: 0.6005\n",
      "Epoch 42/64, Validation Loss: 0.5905\n",
      "Iteration: 8000. Loss: 0.5484. Accuracy: 76.33%\n",
      "Epoch 43/64, Validation Loss: 0.6054\n",
      "Epoch 44/64, Validation Loss: 0.5964\n",
      "Epoch 45/64, Validation Loss: 0.5918\n",
      "Iteration: 8500. Loss: 0.4855. Accuracy: 76.25%\n",
      "Epoch 46/64, Validation Loss: 0.6074\n",
      "Epoch 47/64, Validation Loss: 0.6000\n",
      "Iteration: 9000. Loss: 0.2679. Accuracy: 76.08%\n",
      "Epoch 48/64, Validation Loss: 0.5978\n",
      "Epoch 49/64, Validation Loss: 0.5957\n",
      "Epoch 50/64, Validation Loss: 0.6007\n",
      "Iteration: 9500. Loss: 0.4330. Accuracy: 76.00%\n",
      "Epoch 51/64, Validation Loss: 0.6035\n",
      "Epoch 52/64, Validation Loss: 0.6139\n",
      "Epoch 53/64, Validation Loss: 0.6037\n",
      "Iteration: 10000. Loss: 0.5332. Accuracy: 76.00%\n",
      "Epoch 54/64, Validation Loss: 0.6092\n",
      "Epoch 55/64, Validation Loss: 0.6161\n",
      "Iteration: 10500. Loss: 0.3941. Accuracy: 75.92%\n",
      "Epoch 56/64, Validation Loss: 0.6005\n",
      "Epoch 57/64, Validation Loss: 0.5870\n",
      "Epoch 58/64, Validation Loss: 0.6116\n",
      "Iteration: 11000. Loss: 0.4538. Accuracy: 76.50%\n",
      "Epoch 59/64, Validation Loss: 0.5992\n",
      "Epoch 60/64, Validation Loss: 0.5739\n",
      "Epoch 61/64, Validation Loss: 0.5945\n",
      "Iteration: 11500. Loss: 0.4218. Accuracy: 75.75%\n",
      "Epoch 62/64, Validation Loss: 0.5938\n",
      "Epoch 63/64, Validation Loss: 0.6171\n",
      "Iteration: 12000. Loss: 0.5338. Accuracy: 76.58%\n",
      "Epoch 64/64, Validation Loss: 0.6242\n"
     ]
    }
   ],
   "source": [
    "# Learning Rate Scheduler: Reduce LR by half if no improvement in validation loss for 10 epochs.\n",
    "scheduler = torch.optim.lr_scheduler.CosineAnnealingLR(optimizer, T_max=50, eta_min=1e-6)\n",
    "\n",
    "# Early Stopping parameters: Stop training if no improvement in validation loss for 40 epochs.\n",
    "best_val_loss = np.inf\n",
    "epochs_no_improve = 0\n",
    "n_epochs_stop = 30\n",
    "\n",
    "# Variables to store history for plotting\n",
    "loss_history = []\n",
    "accuracy_history = []\n",
    "iteration_history = []\n",
    "\n",
    "iter_count = 0\n",
    "\n",
    "for epoch in range(num_epochs):\n",
    "    model.train()\n",
    "    for i, (images, labels) in enumerate(train_loader):\n",
    "        images = images.requires_grad_().to(device)\n",
    "        labels = labels.to(device)\n",
    "\n",
    "        optimizer.zero_grad()            # Clear gradients\n",
    "        outputs = model(images)           # Forward pass\n",
    "        loss = criterion(outputs, labels)  # Compute loss\n",
    "        loss.backward()                    # Backpropagation\n",
    "        optimizer.step()                   # Update parameters\n",
    "        \n",
    "        iter_count += 1\n",
    "        \n",
    "        # Optionally, compute and store training metrics every 500 iterations\n",
    "        if iter_count % 500 == 0:\n",
    "            # Evaluate on validation set for accuracy calculation\n",
    "            model.eval()\n",
    "            correct = 0\n",
    "            total = 0\n",
    "            with torch.no_grad():\n",
    "                for val_images, val_labels in val_loader:\n",
    "                    val_images = val_images.requires_grad_().to(device)\n",
    "                    val_labels = val_labels.to(device)\n",
    "                    val_outputs = model(val_images)\n",
    "                    _, predicted = torch.max(val_outputs.data, 1)\n",
    "                    total += val_labels.size(0)\n",
    "                    if torch.cuda.is_available():\n",
    "                        correct += (predicted.cpu() == val_labels.cpu()).sum().item()\n",
    "                    else:\n",
    "                        correct += (predicted == val_labels).sum().item()\n",
    "            accuracy = 100 * correct / total\n",
    "            loss_history.append(loss.item())\n",
    "            accuracy_history.append(accuracy)\n",
    "            iteration_history.append(iter_count)\n",
    "            print(f'Iteration: {iter_count}. Loss: {loss.item():.4f}. Accuracy: {accuracy:.2f}%')\n",
    "            model.train()  # Switch back to training mode\n",
    "\n",
    "    # End of epoch: evaluate the model on the validation set to check for early stopping.\n",
    "    model.eval()\n",
    "    total_val_loss = 0.0\n",
    "    total_samples = 0\n",
    "    all_preds = []\n",
    "    all_labels = []\n",
    "    with torch.no_grad():\n",
    "        for images, labels in val_loader:\n",
    "            images = images.to(device)\n",
    "            labels = labels.to(device)\n",
    "            outputs = model(images)\n",
    "            loss_val = criterion(outputs, labels)\n",
    "            total_val_loss += loss_val.item() * images.size(0)\n",
    "            total_samples += images.size(0)\n",
    "            _, preds = torch.max(outputs, 1)\n",
    "            all_preds.extend(preds.cpu().numpy())\n",
    "            all_labels.extend(labels.cpu().numpy())\n",
    "    avg_val_loss = total_val_loss / total_samples\n",
    "    print(f'Epoch {epoch+1}/{num_epochs}, Validation Loss: {avg_val_loss:.4f}')\n",
    "    \n",
    "    # Step the scheduler\n",
    "    scheduler.step()\n",
    "    \n",
    "    # Check early stopping condition\n",
    "    if avg_val_loss < best_val_loss:\n",
    "        best_val_loss = avg_val_loss\n",
    "        epochs_no_improve = 0\n",
    "        torch.save(model.state_dict(), 'best_model.pt')\n",
    "    else:\n",
    "        epochs_no_improve += 1\n",
    "        if epochs_no_improve >= n_epochs_stop:\n",
    "            print(\"Early stopping triggered!\")\n",
    "            ## break\n",
    "    model.train()"
   ]
  },
  {
   "cell_type": "code",
   "execution_count": 15,
   "metadata": {
    "trusted": true
   },
   "outputs": [
    {
     "data": {
      "image/png": "[encoded data removed]",
      "text/plain": [
       "<Figure size 1200x500 with 2 Axes>"
      ]
     },
     "metadata": {},
     "output_type": "display_data"
    }
   ],
   "source": [
    "plt.figure(figsize=(12, 5))\n",
    "plt.subplot(1, 2, 1)\n",
    "plt.plot(iteration_history, loss_history, marker='o', color='blue')\n",
    "plt.title('Loss vs Iteration')\n",
    "plt.xlabel('Iteration')\n",
    "plt.ylabel('Loss')\n",
    "\n",
    "plt.subplot(1, 2, 2)\n",
    "plt.plot(iteration_history, accuracy_history, marker='o', color='green')\n",
    "plt.title('Accuracy vs Iteration')\n",
    "plt.xlabel('Iteration')\n",
    "plt.ylabel('Accuracy (%)')\n",
    "\n",
    "plt.tight_layout()\n",
    "plt.show()"
   ]
  },
  {
   "cell_type": "code",
   "execution_count": 16,
   "metadata": {
    "trusted": true
   },
   "outputs": [
    {
     "name": "stdout",
     "output_type": "stream",
     "text": [
      "Confusion Matrix:\n",
      "[[208  55  27  10]\n",
      " [ 29 262   2   7]\n",
      " [ 41  30 224   5]\n",
      " [ 57  15  12 216]]\n",
      "\n",
      "Classification Report:\n",
      "                        precision    recall  f1-score   support\n",
      "\n",
      "   bào ngư xám + trắng       0.62      0.69      0.66       300\n",
      "        linh chi trắng       0.72      0.87      0.79       300\n",
      "                nấm mỡ       0.85      0.75      0.79       300\n",
      "Đùi gà Baby (cắt ngắn)       0.91      0.72      0.80       300\n",
      "\n",
      "              accuracy                           0.76      1200\n",
      "             macro avg       0.77      0.76      0.76      1200\n",
      "          weighted avg       0.77      0.76      0.76      1200\n",
      "\n"
     ]
    }
   ],
   "source": [
    "all_preds = np.array(all_preds)\n",
    "all_labels = np.array(all_labels)\n",
    "\n",
    "    # Tính toán confusion matrix\n",
    "cm = confusion_matrix(all_labels, all_preds)\n",
    "print(\"Confusion Matrix:\")\n",
    "print(cm)\n",
    "    \n",
    "    # In báo cáo classification bao gồm precision, recall, F1-score\n",
    "    # Giả sử train_set.classes chứa tên các lớp\n",
    "print(\"\\nClassification Report:\")\n",
    "print(classification_report(all_labels, all_preds, target_names=train_set.classes))"
   ]
  },
  {
   "cell_type": "code",
   "execution_count": 17,
   "metadata": {
    "trusted": true
   },
   "outputs": [],
   "source": [
    "import matplotlib.pyplot as plt\n",
    "import seaborn as sns\n",
    "from sklearn.metrics import confusion_matrix\n",
    "import numpy as np"
   ]
  },
  {
   "cell_type": "code",
   "execution_count": 18,
   "metadata": {
    "trusted": true
   },
   "outputs": [],
   "source": [
    "import matplotlib.pyplot as plt\n",
    "import seaborn as sns\n",
    "from sklearn.metrics import confusion_matrix\n",
    "import numpy as np"
   ]
  }
 ],
 "metadata": {
  "kaggle": {
   "accelerator": "nvidiaTeslaT4",
   "dataSources": [],
   "dockerImageVersionId": 30919,
   "isGpuEnabled": true,
   "isInternetEnabled": true,
   "language": "python",
   "sourceType": "notebook"
  },
  "kernelspec": {
   "display_name": "ml",
   "language": "python",
   "name": "python3"
  },
  "language_info": {
   "codemirror_mode": {
    "name": "ipython",
    "version": 3
   },
   "file_extension": ".py",
   "mimetype": "text/x-python",
   "name": "python",
   "nbconvert_exporter": "python",
   "pygments_lexer": "ipython3",
   "version": "3.12.4"
  }
 },
 "nbformat": 4,
 "nbformat_minor": 4
}

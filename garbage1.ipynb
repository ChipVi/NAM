{
  "cells": [
    {
      "cell_type": "code",
      "execution_count": 4,
      "metadata": {
        "id": "nMpSeVfaJOzO"
      },
      "outputs": [],
      "source": [
        "import torch\n",
        "import torch.nn as nn\n",
        "import torchvision.transforms as transforms\n",
        "import torchvision.datasets as dsets\n",
        "from torch.autograd import Variable\n",
        "import os\n",
        "import matplotlib.pyplot as plt\n",
        "import random\n",
        "from sklearn.model_selection import train_test_split\n",
        "import shutil"
      ]
    },
    {
      "cell_type": "code",
      "execution_count": 5,
      "metadata": {
        "colab": {
          "base_uri": "https://localhost:8080/"
        },
        "id": "QCbbJSmHJOzY",
        "outputId": "81949f9a-ce1c-45a6-a429-a42aaf5de0dd"
      },
      "outputs": [
        {
          "data": {
            "text/plain": [
              "device(type='cuda', index=0)"
            ]
          },
          "execution_count": 5,
          "metadata": {},
          "output_type": "execute_result"
        }
      ],
      "source": [
        "# Đưa model vào GPU\n",
        "device = torch.device(\"cuda:0\" if torch.cuda.is_available() else \"cpu\")\n",
        "device"
      ]
    },
    {
      "cell_type": "code",
      "execution_count": 6,
      "metadata": {
        "colab": {
          "base_uri": "https://localhost:8080/"
        },
        "id": "p3astcTvJOzR",
        "outputId": "71af2f8b-48bf-48a9-822e-dbebbf128152"
      },
      "outputs": [
        {
          "name": "stdout",
          "output_type": "stream",
          "text": [
            "True\n"
          ]
        }
      ],
      "source": [
        "print(os.path.exists(r'train_augment'))"
      ]
    },
    {
      "cell_type": "markdown",
      "metadata": {
        "id": "AD_oq0L9JOzS"
      },
      "source": [
        "### Random choose 350 images from each class to train -> avoid Bias\n"
      ]
    },
    {
      "cell_type": "code",
      "execution_count": 7,
      "metadata": {
        "id": "9Q-gojGXJOzT"
      },
      "outputs": [],
      "source": [
        "# list_dir = os.listdir('CNN_BASICS\\\\original_images')\n",
        "# for dir in list_dir:\n",
        "#     if dir== 'trash': continue\n",
        "#     files=os.listdir('CNN_BASICS\\\\original_images\\\\'+ dir)\n",
        "#     train_path, test_path=train_test_split(files, train_size=350/len(files))\n",
        "#     for path in train_path:\n",
        "#         shutil.copy(os.path.join('CNN_BASICS\\\\original_images', dir, path), os.path.join('CNN_BASICS\\\\train', dir))\n",
        "#     for path in test_path:\n",
        "#         shutil.copy(os.path.join('CNN_BASICS\\\\original_images', dir, path), os.path.join('CNN_BASICS\\\\test', dir))\n"
      ]
    },
    {
      "cell_type": "code",
      "execution_count": 8,
      "metadata": {
        "id": "DQmS8IdVJOzU"
      },
      "outputs": [],
      "source": [
        "# Define transforms for images\n",
        "transform = transforms.Compose([\n",
        "    transforms.Grayscale(num_output_channels=1),\n",
        "    transforms.Resize((32, 32)),\n",
        "    transforms.ToTensor()   #has done normalizing in range [0, ...1]\n",
        "])"
      ]
    },
    {
      "cell_type": "code",
      "execution_count": 9,
      "metadata": {
        "id": "lM9jik21JOzU"
      },
      "outputs": [],
      "source": [
        "train_set= dsets.ImageFolder(root=r'train_augment', transform=transform)\n",
        "valid_set= dsets.ImageFolder(root=r'val_augment', transform=transform)"
      ]
    },
    {
      "cell_type": "code",
      "execution_count": 10,
      "metadata": {
        "colab": {
          "base_uri": "https://localhost:8080/"
        },
        "id": "OwjETyDLJOzV",
        "outputId": "9bf9fa51-ce52-4815-9b6e-4c734c4ebbb3"
      },
      "outputs": [
        {
          "data": {
            "text/plain": [
              "6000"
            ]
          },
          "execution_count": 10,
          "metadata": {},
          "output_type": "execute_result"
        }
      ],
      "source": [
        "len(train_set)"
      ]
    },
    {
      "cell_type": "code",
      "execution_count": 11,
      "metadata": {
        "colab": {
          "base_uri": "https://localhost:8080/"
        },
        "id": "a8yrgn-9JOzV",
        "outputId": "b2d1cb70-b147-4687-e492-665a61182483"
      },
      "outputs": [
        {
          "data": {
            "text/plain": [
              "1200"
            ]
          },
          "execution_count": 11,
          "metadata": {},
          "output_type": "execute_result"
        }
      ],
      "source": [
        "len(valid_set)"
      ]
    },
    {
      "cell_type": "code",
      "execution_count": 12,
      "metadata": {
        "id": "bRH5H0FmJOzW"
      },
      "outputs": [],
      "source": [
        "batch_size = 32\n",
        "n_iters = 10000  # number of times running 1 batch (in summation train:s 3000 batches)\n",
        "num_epochs = n_iters / (len(train_set) / batch_size) # run whole data n times\n",
        "num_epochs = int(num_epochs)\n",
        "\n",
        "# Divide data into batch to iterate over\n",
        "train_loader = torch.utils.data.DataLoader(dataset=train_set,\n",
        "                                           batch_size=batch_size,\n",
        "                                           shuffle=True)\n",
        "\n",
        "valid_loader = torch.utils.data.DataLoader(dataset=valid_set,\n",
        "                                          batch_size=batch_size,\n",
        "                                          shuffle=True)"
      ]
    },
    {
      "cell_type": "code",
      "execution_count": 13,
      "metadata": {
        "colab": {
          "base_uri": "https://localhost:8080/"
        },
        "id": "BKf5ST1UJOzW",
        "outputId": "eb646d5f-64bd-4223-f17c-8e6cf3446634"
      },
      "outputs": [
        {
          "name": "stdout",
          "output_type": "stream",
          "text": [
            "Inputs shape: torch.Size([32, 1, 32, 32])\n",
            "Labels shape: torch.Size([32])\n"
          ]
        }
      ],
      "source": [
        "# Info of each batch\n",
        "# samples x channels (1 or 3 RGB) x height x width\n",
        "for inputs, labels in train_loader:\n",
        "    print(\"Inputs shape:\", inputs.shape)\n",
        "    print(\"Labels shape:\", labels.shape)\n",
        "    break  # Inspect only the first batch\n"
      ]
    },
    {
      "cell_type": "markdown",
      "metadata": {
        "id": "hdhY_BGCJOzX"
      },
      "source": [
        "### Step 3: Theory\n",
        "\n",
        "#### Output Formula for Convolution\n",
        "- $ O = \\frac {W - K + 2P}{S} + 1$\n",
        "    - $O$: output height/length\n",
        "    - $W$: input height/length\n",
        "    - $K$: **filter size (kernel size) = 5**\n",
        "    - $P$: **same padding (non-zero)**\n",
        "        - $P = \\frac{K - 1}{2}  = \\frac{5 - 1}{2} = 2$\n",
        "    - $S$: **stride = 1**\n",
        "    \n",
        "#### Output Formula for Pooling/Downsampling\n",
        "- $ O = \\frac {W - K}{S} + 1$\n",
        "    - W: input height/width\n",
        "    - K: **filter size = 2**\n",
        "    - S: **stride size = filter size**, PyTorch defaults the stride to kernel filter size\n",
        "        - If using PyTorch default stride, this will result in the formula $ O = \\frac {W}{K}$\n",
        "    \n",
        "<img src=\"./images/cnn10-2n.png\" alt=\"deeplearningwizard\" style=\"width: 900px;\"/>"
      ]
    },
    {
      "cell_type": "markdown",
      "metadata": {},
      "source": [
        "##Code"
      ]
    },
    {
      "cell_type": "code",
      "execution_count": 14,
      "metadata": {
        "id": "GbxwL0mDJOzX"
      },
      "outputs": [],
      "source": [
        "class CNNModel(nn.Module):\n",
        "    def __init__(self):\n",
        "        super(CNNModel, self).__init__()\n",
        "\n",
        "        # Convolution 1\n",
        "        self.cnn1 = nn.Conv2d(in_channels=1, out_channels=16, kernel_size=3, stride=1, padding=1)\n",
        "                            #color channels # 16 kernel types\n",
        "                                            # kernels are initialized randomly and are adjusted through backpropagation.\n",
        "                                            # choosing number of kernels depends on experience\n",
        "        self.relu1 = nn.ReLU()\n",
        "\n",
        "        # Max pool 1\n",
        "        self.maxpool1 = nn.MaxPool2d(kernel_size=2)\n",
        "\n",
        "        # Convolution 2\n",
        "        self.cnn2 = nn.Conv2d(in_channels=16, out_channels=32, kernel_size=3, stride=1, padding=1)\n",
        "        self.relu2 = nn.ReLU()\n",
        "\n",
        "        # Max pool 2\n",
        "        self.maxpool2 = nn.MaxPool2d(kernel_size=2)\n",
        "\n",
        "        # Convolution 3\n",
        "        self.cnn3 = nn.Conv2d(in_channels=32, out_channels=64, kernel_size=3, stride=1, padding=1)\n",
        "        self.relu3 = nn.ReLU()\n",
        "\n",
        "        # Max pool 3\n",
        "        self.maxpool3 = nn.MaxPool2d(kernel_size=2)\n",
        "\n",
        "        # # # Convolution 4\n",
        "        # self.cnn4 = nn.Conv2d(in_channels=64, out_channels=128, kernel_size=3, stride=1, padding=1)\n",
        "        # self.relu4 = nn.ReLU()\n",
        "\n",
        "        # # # Max pool 4\n",
        "        # self.maxpool4 = nn.MaxPool2d(kernel_size=2)\n",
        "        \n",
        "        # Fully connected 1 (readout - dense layer)\n",
        "        self.fc1 = nn.Linear(64 * 4 * 4, 4)\n",
        "\n",
        "    def forward(self, x):\n",
        "        # Convolution 1\n",
        "        out = self.cnn1(x)\n",
        "        out = self.relu1(out)\n",
        "\n",
        "        # Max pool 1\n",
        "        out = self.maxpool1(out)\n",
        "\n",
        "        # Convolution 2\n",
        "        out = self.cnn2(out)\n",
        "        out = self.relu2(out)\n",
        "\n",
        "        # Max pool 2\n",
        "        out = self.maxpool2(out)\n",
        "\n",
        "        # Convolution 3\n",
        "        out = self.cnn3(out)\n",
        "        out = self.relu3(out)\n",
        "\n",
        "        # Max pool 3\n",
        "        out = self.maxpool3(out)\n",
        "\n",
        "        # # # Convolution 3\n",
        "        # out = self.cnn4(out)\n",
        "        # out = self.relu4(out)\n",
        "\n",
        "        # # # Max pool 3\n",
        "        # out = self.maxpool4(out)\n",
        "\n",
        "        # Resize\n",
        "        # Original size: (100, 32, 8, 8)\n",
        "        # New out size: (100, 32*8*8)\n",
        "        out = out.view(out.size(0), -1)\n",
        "\n",
        "        # Linear function (readout)\n",
        "        # Put 50 output samples into linear to calc softmax and cross entropy loss for each output sample\n",
        "        out = self.fc1(out)\n",
        "\n",
        "        return out"
      ]
    },
    {
      "cell_type": "code",
      "execution_count": 15,
      "metadata": {
        "id": "9AYztpikJOzX"
      },
      "outputs": [],
      "source": [
        "model1= CNNModel()\n",
        "criterion = nn.CrossEntropyLoss()\n",
        "\n",
        "learning_rate = 0.02\n",
        "optimizer = torch.optim.SGD(model1.parameters(), lr=learning_rate)"
      ]
    },
    {
      "cell_type": "code",
      "execution_count": 16,
      "metadata": {
        "colab": {
          "base_uri": "https://localhost:8080/"
        },
        "id": "zw9qvAbJJOzY",
        "outputId": "5e57dd1d-3a43-45c1-81bb-e4f8f24de05e"
      },
      "outputs": [
        {
          "data": {
            "text/plain": [
              "CNNModel(\n",
              "  (cnn1): Conv2d(1, 16, kernel_size=(3, 3), stride=(1, 1), padding=(1, 1))\n",
              "  (relu1): ReLU()\n",
              "  (maxpool1): MaxPool2d(kernel_size=2, stride=2, padding=0, dilation=1, ceil_mode=False)\n",
              "  (cnn2): Conv2d(16, 32, kernel_size=(3, 3), stride=(1, 1), padding=(1, 1))\n",
              "  (relu2): ReLU()\n",
              "  (maxpool2): MaxPool2d(kernel_size=2, stride=2, padding=0, dilation=1, ceil_mode=False)\n",
              "  (cnn3): Conv2d(32, 64, kernel_size=(3, 3), stride=(1, 1), padding=(1, 1))\n",
              "  (relu3): ReLU()\n",
              "  (maxpool3): MaxPool2d(kernel_size=2, stride=2, padding=0, dilation=1, ceil_mode=False)\n",
              "  (fc1): Linear(in_features=1024, out_features=4, bias=True)\n",
              ")"
            ]
          },
          "execution_count": 16,
          "metadata": {},
          "output_type": "execute_result"
        }
      ],
      "source": [
        "model1.to(device)\n"
      ]
    },
    {
      "cell_type": "code",
      "execution_count": 17,
      "metadata": {},
      "outputs": [],
      "source": [
        "accuracy_history=[]\n",
        "iteration_history=[]\n",
        "loss_history=[]"
      ]
    },
    {
      "cell_type": "code",
      "execution_count": 18,
      "metadata": {
        "colab": {
          "base_uri": "https://localhost:8080/"
        },
        "id": "o3iiAJOBJOzY",
        "outputId": "3e11314d-d465-4d37-9993-9950ea9d54e8"
      },
      "outputs": [
        {
          "name": "stdout",
          "output_type": "stream",
          "text": [
            "Iteration: 500. Loss: 1.2777040004730225. Accuracy: 37.83333206176758\n",
            "Iteration: 1000. Loss: 0.9797532558441162. Accuracy: 47.83333206176758\n",
            "Iteration: 1500. Loss: 0.8348695635795593. Accuracy: 52.0\n",
            "Iteration: 2000. Loss: 0.48306527733802795. Accuracy: 59.16666793823242\n",
            "Iteration: 2500. Loss: 0.661252498626709. Accuracy: 58.91666793823242\n",
            "Iteration: 3000. Loss: 0.5385705232620239. Accuracy: 63.0\n",
            "Iteration: 3500. Loss: 0.5203022956848145. Accuracy: 62.08333206176758\n",
            "Iteration: 4000. Loss: 0.5281258821487427. Accuracy: 63.58333206176758\n",
            "Iteration: 4500. Loss: 0.32323363423347473. Accuracy: 64.66666412353516\n",
            "Iteration: 5000. Loss: 0.539762556552887. Accuracy: 62.91666793823242\n",
            "Iteration: 5500. Loss: 0.3754739761352539. Accuracy: 65.33333587646484\n",
            "Iteration: 6000. Loss: 0.3337562084197998. Accuracy: 66.58333587646484\n",
            "Iteration: 6500. Loss: 0.331022709608078. Accuracy: 63.91666793823242\n",
            "Iteration: 7000. Loss: 0.23330628871917725. Accuracy: 66.33333587646484\n",
            "Iteration: 7500. Loss: 0.1898682415485382. Accuracy: 66.16666412353516\n",
            "Iteration: 8000. Loss: 0.1665068119764328. Accuracy: 66.5\n",
            "Iteration: 8500. Loss: 0.1769367903470993. Accuracy: 68.66666412353516\n",
            "Iteration: 9000. Loss: 0.09346995502710342. Accuracy: 67.75\n",
            "Iteration: 9500. Loss: 0.09932209551334381. Accuracy: 68.58333587646484\n"
          ]
        }
      ],
      "source": [
        "'''\n",
        "STEP 7: TRAIN THE MODEL\n",
        "'''\n",
        "iter = 0\n",
        "for epoch in range(num_epochs):\n",
        "    for i, (images, labels) in enumerate(train_loader):\n",
        "\n",
        "        #######################\n",
        "        #  USE GPU FOR MODEL  #\n",
        "        #######################\n",
        "\n",
        "        # Feed input to GPU\n",
        "        images = images.requires_grad_().to(device)\n",
        "        labels = labels.to(device)\n",
        "\n",
        "        # Clear gradients w.r.t. parameters\n",
        "        optimizer.zero_grad()\n",
        "\n",
        "        # Forward pass to get output/logits\n",
        "        outputs = model1(images)\n",
        "\n",
        "        # Calculate Loss: softmax --> cross entropy loss\n",
        "        loss = criterion(outputs, labels)\n",
        "\n",
        "        # Getting gradients w.r.t. parameters\n",
        "        loss.backward()\n",
        "\n",
        "        # Updating parameters\n",
        "        optimizer.step()\n",
        "\n",
        "        iter += 1\n",
        "\n",
        "        if iter % 500 == 0:\n",
        "            # Calculate Accuracy\n",
        "            correct = 0\n",
        "            total = 0\n",
        "            # Iterate through test dataset\n",
        "            for images, labels in valid_loader:\n",
        "                #######################\n",
        "                #  USE GPU FOR MODEL  #\n",
        "                #######################\n",
        "                images = images.requires_grad_().to(device)\n",
        "                labels = labels.to(device)\n",
        "\n",
        "                # Forward pass only to get logits/output\n",
        "                outputs = model1(images)\n",
        "\n",
        "                # Get predictions from the maximum value\n",
        "                _, predicted = torch.max(outputs.data, 1)\n",
        "\n",
        "                # Total number of labels\n",
        "                total += labels.size(0)\n",
        "\n",
        "                #######################\n",
        "                #  USE GPU FOR MODEL  #\n",
        "                #######################\n",
        "                # Total correct predictions\n",
        "\n",
        "                if torch.cuda.is_available():\n",
        "                    correct += (predicted.cpu() == labels.cpu()).sum()\n",
        "                else:\n",
        "                    correct += (predicted == labels).sum()\n",
        "\n",
        "            accuracy = 100 * correct / total\n",
        "            \n",
        "            accuracy_history.append(accuracy)\n",
        "            iteration_history.append(iter)\n",
        "            loss_history.append(loss.item())\n",
        "            # Print Loss\n",
        "            print('Iteration: {}. Loss: {}. Accuracy: {}'.format(iter, loss.item(), accuracy))"
      ]
    },
    {
      "cell_type": "code",
      "execution_count": 19,
      "metadata": {
        "id": "xvclLjMgKr3X"
      },
      "outputs": [],
      "source": [
        "import matplotlib.pyplot as plt\n",
        "import seaborn as sns\n",
        "from sklearn.metrics import confusion_matrix\n",
        "import numpy as np"
      ]
    },
    {
      "cell_type": "code",
      "execution_count": 20,
      "metadata": {},
      "outputs": [
        {
          "data": {
            "text/plain": [
              "[<matplotlib.lines.Line2D at 0x265fef72c60>]"
            ]
          },
          "execution_count": 20,
          "metadata": {},
          "output_type": "execute_result"
        },
        {
          "data": {
            "image/png": "[encoded data removed]",
            "text/plain": [
              "<Figure size 640x480 with 1 Axes>"
            ]
          },
          "metadata": {},
          "output_type": "display_data"
        }
      ],
      "source": [
        "plt.plot(iteration_history, accuracy_history, color='blue')\n",
        "plt.plot(iteration_history, loss_history, color='red')"
      ]
    },
    {
      "cell_type": "code",
      "execution_count": 21,
      "metadata": {
        "colab": {
          "base_uri": "https://localhost:8080/",
          "height": 545
        },
        "id": "_2OSEvSTCUy-",
        "outputId": "71bc6737-7f5b-45e4-d292-a0109cee14ff"
      },
      "outputs": [
        {
          "data": {
            "text/plain": [
              "<Axes: >"
            ]
          },
          "execution_count": 21,
          "metadata": {},
          "output_type": "execute_result"
        },
        {
          "data": {
            "image/png": "[encoded data removed]",
            "text/plain": [
              "<Figure size 800x600 with 2 Axes>"
            ]
          },
          "metadata": {},
          "output_type": "display_data"
        }
      ],
      "source": [
        "# Step 2: Evaluate Model and Get Predictions\n",
        "model1.eval()  # Set model to evaluation mode\n",
        "\n",
        "true_labels = []\n",
        "predicted_labels = []\n",
        "\n",
        "with torch.no_grad():\n",
        "    for data in valid_loader:\n",
        "        images, labels = data\n",
        "        images, labels = images.to(device), labels.to(device)\n",
        "\n",
        "        outputs = model1(images)\n",
        "        _, predicted = torch.max(outputs, 1)\n",
        "\n",
        "        true_labels.extend(labels.cpu().numpy())\n",
        "        predicted_labels.extend(predicted.cpu().numpy())\n",
        "\n",
        "# Step 3: Compute Confusion Matrix\n",
        "cm = confusion_matrix(true_labels, predicted_labels)\n",
        "\n",
        "# Step 4: Plot Confusion Matrix\n",
        "plt.figure(figsize=(8, 6))\n",
        "sns.heatmap(cm, annot=True, fmt='d', cmap='Blues')"
      ]
    },
    {
      "cell_type": "code",
      "execution_count": null,
      "metadata": {},
      "outputs": [],
      "source": [
        "# Hook để lấy đặc trưng và gradient\n",
        "preprocess = transforms.Compose([\n",
        "    transforms.ToTensor(),\n",
        "    transforms.Normalize(),\n",
        "])\n",
        "\n",
        "img_path = 'val\\Đùi gà Baby (cắt ngắn)\\DG003.jpg'  # Thay bằng đường dẫn ảnh của bạn\n",
        "img = Image.open(img_path).convert('RGB')\n",
        "img_tensor = preprocess(img).unsqueeze(0)\n",
        "\n",
        "features = []\n",
        "gradients = []\n",
        "\n",
        "def get_features(module, input, output):\n",
        "    features.append(output)\n",
        "\n",
        "def get_gradients(module, grad_input, grad_output):\n",
        "    gradients.append(grad_output[0])\n",
        "\n",
        "last_conv_layer = model1.layer4\n",
        "last_conv_layer.register_forward_hook(get_features)\n",
        "last_conv_layer.register_backward_hook(get_gradients)\n",
        "\n",
        "# Dự đoán\n",
        "output = model1(img_tensor)\n",
        "class_idx = torch.argmax(output, dim=1).item()\n",
        "\n",
        "# Tính gradient\n",
        "model1.zero_grad()\n",
        "output[0, class_idx].backward()\n",
        "\n",
        "# Tạo heatmap\n",
        "feature = features[0][0]\n",
        "gradient = gradients[0][0]\n",
        "pooled_grads = torch.mean(gradient, dim=[1, 2])\n",
        "\n",
        "heatmap = torch.zeros(feature.shape[1:], dtype=torch.float32)\n",
        "for i in range(feature.shape[0]):\n",
        "    heatmap += feature[i] * pooled_grads[i]\n",
        "\n",
        "heatmap = torch.relu(heatmap)\n",
        "heatmap = heatmap / torch.max(heatmap)\n",
        "heatmap = heatmap.detach().cpu().numpy()\n",
        "\n",
        "# Trực quan hóa\n",
        "img_np = np.array(img)\n",
        "heatmap_resized = cv2.resize(heatmap, (img_np.shape[1], img_np.shape[0]))\n",
        "heatmap_resized = np.uint8(255 * heatmap_resized)\n",
        "heatmap_colored = cv2.applyColorMap(heatmap_resized, cv2.COLORMAP_JET)\n",
        "superimposed_img = heatmap_colored * 0.4 + img_np * 0.6\n",
        "\n",
        "plt.imshow(superimposed_img.astype('uint8'))\n",
        "plt.axis('off')\n",
        "plt.show()"
      ]
    }
  ],
  "metadata": {
    "accelerator": "GPU",
    "colab": {
      "gpuType": "T4",
      "provenance": []
    },
    "kernelspec": {
      "display_name": "ml",
      "language": "python",
      "name": "python3"
    },
    "language_info": {
      "codemirror_mode": {
        "name": "ipython",
        "version": 3
      },
      "file_extension": ".py",
      "mimetype": "text/x-python",
      "name": "python",
      "nbconvert_exporter": "python",
      "pygments_lexer": "ipython3",
      "version": "3.12.4"
    }
  },
  "nbformat": 4,
  "nbformat_minor": 0
}

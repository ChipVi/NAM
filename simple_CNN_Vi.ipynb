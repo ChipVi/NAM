{
  "cells": [
    {
      "cell_type": "markdown",
      "metadata": {
        "id": "view-in-github",
        "colab_type": "text"
      },
      "source": [
        "<a href=\"https://colab.research.google.com/github/ChipVi/NAM/blob/master/simple_CNN_Vi.ipynb\" target=\"_parent\"><img src=\"https://colab.research.google.com/assets/colab-badge.svg\" alt=\"Open In Colab\"/></a>"
      ]
    },
    {
      "cell_type": "code",
      "source": [
        "!git clone https://github.com/ChipVi/NAM.git\n",
        "%cd NAM\n",
        "!git checkout master"
      ],
      "metadata": {
        "id": "y9aOVjev-RV_",
        "outputId": "d0701af1-7687-4f7b-c3bc-7242de2109d4",
        "colab": {
          "base_uri": "https://localhost:8080/"
        }
      },
      "execution_count": 50,
      "outputs": [
        {
          "output_type": "stream",
          "name": "stdout",
          "text": [
            "Cloning into 'NAM'...\n",
            "remote: Enumerating objects: 8024, done.\u001b[K\n",
            "remote: Counting objects: 100% (8024/8024), done.\u001b[K\n",
            "remote: Compressing objects: 100% (37/37), done.\u001b[K\n",
            "remote: Total 8024 (delta 7985), reused 8021 (delta 7985), pack-reused 0 (from 0)\u001b[K\n",
            "Receiving objects: 100% (8024/8024), 2.39 MiB | 1.34 MiB/s, done.\n",
            "Resolving deltas: 100% (7985/7985), done.\n",
            "/content/NAM/NAM/NAM/NAM\n",
            "Branch 'master' set up to track remote branch 'master' from 'origin'.\n",
            "Switched to a new branch 'master'\n"
          ]
        }
      ]
    },
    {
      "cell_type": "code",
      "execution_count": 51,
      "metadata": {
        "id": "nMpSeVfaJOzO"
      },
      "outputs": [],
      "source": [
        "import torch\n",
        "import torch.nn as nn\n",
        "import torchvision.transforms as transforms\n",
        "import torchvision.datasets as dsets\n",
        "from torch.autograd import Variable\n",
        "import os\n",
        "import matplotlib.pyplot as plt\n",
        "import random\n",
        "from sklearn.model_selection import train_test_split\n",
        "import shutil"
      ]
    },
    {
      "cell_type": "code",
      "execution_count": 52,
      "metadata": {
        "colab": {
          "base_uri": "https://localhost:8080/"
        },
        "id": "QCbbJSmHJOzY",
        "outputId": "2bb73357-1805-42a0-fb41-28f406193a14"
      },
      "outputs": [
        {
          "output_type": "execute_result",
          "data": {
            "text/plain": [
              "device(type='cuda', index=0)"
            ]
          },
          "metadata": {},
          "execution_count": 52
        }
      ],
      "source": [
        "# Đưa model vào GPU\n",
        "device = torch.device(\"cuda:0\" if torch.cuda.is_available() else \"cpu\")\n",
        "device"
      ]
    },
    {
      "cell_type": "code",
      "execution_count": 53,
      "metadata": {
        "colab": {
          "base_uri": "https://localhost:8080/"
        },
        "id": "p3astcTvJOzR",
        "outputId": "60d967a3-ffc9-4656-eee6-46c5d78a84b2"
      },
      "outputs": [
        {
          "output_type": "stream",
          "name": "stdout",
          "text": [
            "True\n"
          ]
        }
      ],
      "source": [
        "print(os.path.exists(r'train_augment'))"
      ]
    },
    {
      "cell_type": "markdown",
      "metadata": {
        "id": "AD_oq0L9JOzS"
      },
      "source": [
        "### Random choose 350 images from each class to train -> avoid Bias\n"
      ]
    },
    {
      "cell_type": "code",
      "execution_count": 54,
      "metadata": {
        "id": "9Q-gojGXJOzT"
      },
      "outputs": [],
      "source": [
        "# list_dir = os.listdir('CNN_BASICS\\\\original_images')\n",
        "# for dir in list_dir:\n",
        "#     if dir== 'trash': continue\n",
        "#     files=os.listdir('CNN_BASICS\\\\original_images\\\\'+ dir)\n",
        "#     train_path, test_path=train_test_split(files, train_size=350/len(files))\n",
        "#     for path in train_path:\n",
        "#         shutil.copy(os.path.join('CNN_BASICS\\\\original_images', dir, path), os.path.join('CNN_BASICS\\\\train', dir))\n",
        "#     for path in test_path:\n",
        "#         shutil.copy(os.path.join('CNN_BASICS\\\\original_images', dir, path), os.path.join('CNN_BASICS\\\\test', dir))\n"
      ]
    },
    {
      "cell_type": "code",
      "execution_count": 55,
      "metadata": {
        "id": "DQmS8IdVJOzU"
      },
      "outputs": [],
      "source": [
        "# Define transforms for images\n",
        "transform = transforms.Compose([\n",
        "    # transforms.Grayscale(num_output_channels=1),\n",
        "    transforms.Resize((32, 32)),\n",
        "    transforms.ToTensor()   #has done normalizing in range [0, ...1]\n",
        "])"
      ]
    },
    {
      "cell_type": "code",
      "execution_count": 56,
      "metadata": {
        "id": "lM9jik21JOzU"
      },
      "outputs": [],
      "source": [
        "train_set= dsets.ImageFolder(root=r'train_augment', transform=transform)\n",
        "valid_set= dsets.ImageFolder(root=r'val_augment', transform=transform)"
      ]
    },
    {
      "cell_type": "code",
      "execution_count": 57,
      "metadata": {
        "colab": {
          "base_uri": "https://localhost:8080/"
        },
        "id": "OwjETyDLJOzV",
        "outputId": "ecbf8169-4053-4f20-d113-5c2d821c328d"
      },
      "outputs": [
        {
          "output_type": "execute_result",
          "data": {
            "text/plain": [
              "6000"
            ]
          },
          "metadata": {},
          "execution_count": 57
        }
      ],
      "source": [
        "len(train_set)"
      ]
    },
    {
      "cell_type": "code",
      "execution_count": 58,
      "metadata": {
        "colab": {
          "base_uri": "https://localhost:8080/"
        },
        "id": "a8yrgn-9JOzV",
        "outputId": "70e5fc5b-725b-43f6-c421-e79f593045c5"
      },
      "outputs": [
        {
          "output_type": "execute_result",
          "data": {
            "text/plain": [
              "1200"
            ]
          },
          "metadata": {},
          "execution_count": 58
        }
      ],
      "source": [
        "len(valid_set)"
      ]
    },
    {
      "cell_type": "code",
      "execution_count": 59,
      "metadata": {
        "id": "bRH5H0FmJOzW"
      },
      "outputs": [],
      "source": [
        "batch_size = 32\n",
        "n_iters = 12000  # number of times running 1 batch (in summation train:s 3000 batches)\n",
        "num_epochs = n_iters / (len(train_set) / batch_size) # run whole data n times\n",
        "num_epochs = int(num_epochs)\n",
        "\n",
        "# Divide data into batch to iterate over\n",
        "train_loader = torch.utils.data.DataLoader(dataset=train_set,\n",
        "                                           batch_size=batch_size,\n",
        "                                           shuffle=True)\n",
        "\n",
        "valid_loader = torch.utils.data.DataLoader(dataset=valid_set,\n",
        "                                          batch_size=batch_size,\n",
        "                                          shuffle=True)"
      ]
    },
    {
      "cell_type": "code",
      "execution_count": 60,
      "metadata": {
        "colab": {
          "base_uri": "https://localhost:8080/"
        },
        "id": "BKf5ST1UJOzW",
        "outputId": "24eee522-c64b-4a34-e755-51417d2dde93"
      },
      "outputs": [
        {
          "output_type": "stream",
          "name": "stdout",
          "text": [
            "Inputs shape: torch.Size([32, 3, 32, 32])\n",
            "Labels shape: torch.Size([32])\n"
          ]
        }
      ],
      "source": [
        "# Info of each batch\n",
        "# samples x channels (1 or 3 RGB) x height x width\n",
        "for inputs, labels in train_loader:\n",
        "    print(\"Inputs shape:\", inputs.shape)\n",
        "    print(\"Labels shape:\", labels.shape)\n",
        "    break  # Inspect only the first batch\n"
      ]
    },
    {
      "cell_type": "markdown",
      "metadata": {
        "id": "hdhY_BGCJOzX"
      },
      "source": [
        "### Step 3: Theory\n",
        "\n",
        "#### Output Formula for Convolution\n",
        "- $ O = \\frac {W - K + 2P}{S} + 1$\n",
        "    - $O$: output height/length\n",
        "    - $W$: input height/length\n",
        "    - $K$: **filter size (kernel size) = 5**\n",
        "    - $P$: **same padding (non-zero)**\n",
        "        - $P = \\frac{K - 1}{2}  = \\frac{5 - 1}{2} = 2$\n",
        "    - $S$: **stride = 1**\n",
        "    \n",
        "#### Output Formula for Pooling/Downsampling\n",
        "- $ O = \\frac {W - K}{S} + 1$\n",
        "    - W: input height/width\n",
        "    - K: **filter size = 2**\n",
        "    - S: **stride size = filter size**, PyTorch defaults the stride to kernel filter size\n",
        "        - If using PyTorch default stride, this will result in the formula $ O = \\frac {W}{K}$\n",
        "    \n",
        "<img src=\"https://github.com/ChipVi/NAM/blob/master/images/cnn10-2n.png?raw=1\" alt=\"deeplearningwizard\" style=\"width: 900px;\"/>"
      ]
    },
    {
      "cell_type": "markdown",
      "metadata": {
        "id": "fu4S0l-u-HPP"
      },
      "source": [
        "##Code"
      ]
    },
    {
      "cell_type": "code",
      "execution_count": 61,
      "metadata": {
        "id": "GbxwL0mDJOzX"
      },
      "outputs": [],
      "source": [
        "class CNNModel(nn.Module):\n",
        "    def __init__(self):\n",
        "        super(CNNModel, self).__init__()\n",
        "\n",
        "        # Convolution 1\n",
        "        self.cnn1 = nn.Conv2d(in_channels=3, out_channels=16, kernel_size=3, stride=1, padding=1)\n",
        "                            #color channels # 16 kernel types\n",
        "                                            # kernels are initialized randomly and are adjusted through backpropagation.\n",
        "                                            # choosing number of kernels depends on experience\n",
        "        self.relu1 = nn.ReLU()\n",
        "\n",
        "        # Max pool 1\n",
        "        self.maxpool1 = nn.MaxPool2d(kernel_size=2)\n",
        "\n",
        "        # Convolution 2\n",
        "        self.cnn2 = nn.Conv2d(in_channels=16, out_channels=32, kernel_size=3, stride=1, padding=1)\n",
        "        self.relu2 = nn.ReLU()\n",
        "\n",
        "        # Max pool 2\n",
        "        self.maxpool2 = nn.MaxPool2d(kernel_size=2)\n",
        "\n",
        "        # Convolution 3\n",
        "        self.cnn3 = nn.Conv2d(in_channels=32, out_channels=64, kernel_size=3, stride=1, padding=1)\n",
        "        self.relu3 = nn.ReLU()\n",
        "\n",
        "        # Max pool 3\n",
        "        self.maxpool3 = nn.MaxPool2d(kernel_size=2)\n",
        "\n",
        "        # Convolution 4\n",
        "        self.cnn4 = nn.Conv2d(in_channels=64, out_channels=128, kernel_size=2, stride=1, padding=0)\n",
        "        self.relu4 = nn.ReLU()\n",
        "\n",
        "        # # Max pool 4\n",
        "        # self.maxpool4 = nn.MaxPool2d(kernel_size=2)\n",
        "\n",
        "        # Fully connected 1 (readout - dense layer)\n",
        "        self.fc1 = nn.Linear(128 * 3 * 3, 4)\n",
        "\n",
        "    def forward(self, x):\n",
        "        # Convolution 1\n",
        "        out = self.cnn1(x)\n",
        "        out = self.relu1(out)\n",
        "\n",
        "        # Max pool 1\n",
        "        out = self.maxpool1(out)\n",
        "\n",
        "        # Convolution 2\n",
        "        out = self.cnn2(out)\n",
        "        out = self.relu2(out)\n",
        "\n",
        "        # Max pool 2\n",
        "        out = self.maxpool2(out)\n",
        "\n",
        "        # Convolution 3\n",
        "        out = self.cnn3(out)\n",
        "        out = self.relu3(out)\n",
        "\n",
        "        # Max pool 3\n",
        "        out = self.maxpool3(out)\n",
        "\n",
        "        # # Convolution 4\n",
        "        out = self.cnn4(out)\n",
        "        out = self.relu4(out)\n",
        "\n",
        "        # # # Max pool 4\n",
        "        # out = self.maxpool4(out)\n",
        "\n",
        "        # Resize\n",
        "        # Original size: (100, 32, 8, 8)\n",
        "        # New out size: (100, 32*8*8)\n",
        "        out = out.view(out.size(0), -1)\n",
        "\n",
        "        # Linear function (readout)\n",
        "        # Put 50 output samples into linear to calc softmax and cross entropy loss for each output sample\n",
        "        out = self.fc1(out)\n",
        "\n",
        "        return out"
      ]
    },
    {
      "cell_type": "code",
      "execution_count": 62,
      "metadata": {
        "id": "9AYztpikJOzX"
      },
      "outputs": [],
      "source": [
        "model1= CNNModel()\n",
        "criterion = nn.CrossEntropyLoss()\n",
        "\n",
        "learning_rate = 0.02\n",
        "optimizer = torch.optim.SGD(model1.parameters(), lr=learning_rate)"
      ]
    },
    {
      "cell_type": "code",
      "execution_count": 63,
      "metadata": {
        "colab": {
          "base_uri": "https://localhost:8080/"
        },
        "id": "zw9qvAbJJOzY",
        "outputId": "d485e768-fd82-44ec-96d3-da54f7a86615"
      },
      "outputs": [
        {
          "output_type": "execute_result",
          "data": {
            "text/plain": [
              "CNNModel(\n",
              "  (cnn1): Conv2d(3, 16, kernel_size=(3, 3), stride=(1, 1), padding=(1, 1))\n",
              "  (relu1): ReLU()\n",
              "  (maxpool1): MaxPool2d(kernel_size=2, stride=2, padding=0, dilation=1, ceil_mode=False)\n",
              "  (cnn2): Conv2d(16, 32, kernel_size=(3, 3), stride=(1, 1), padding=(1, 1))\n",
              "  (relu2): ReLU()\n",
              "  (maxpool2): MaxPool2d(kernel_size=2, stride=2, padding=0, dilation=1, ceil_mode=False)\n",
              "  (cnn3): Conv2d(32, 64, kernel_size=(3, 3), stride=(1, 1), padding=(1, 1))\n",
              "  (relu3): ReLU()\n",
              "  (maxpool3): MaxPool2d(kernel_size=2, stride=2, padding=0, dilation=1, ceil_mode=False)\n",
              "  (cnn4): Conv2d(64, 128, kernel_size=(2, 2), stride=(1, 1))\n",
              "  (relu4): ReLU()\n",
              "  (fc1): Linear(in_features=1152, out_features=4, bias=True)\n",
              ")"
            ]
          },
          "metadata": {},
          "execution_count": 63
        }
      ],
      "source": [
        "model1.to(device)\n"
      ]
    },
    {
      "cell_type": "code",
      "execution_count": 64,
      "metadata": {
        "id": "SzotyNG1-HPS"
      },
      "outputs": [],
      "source": [
        "accuracy_history=[]\n",
        "iteration_history=[]\n",
        "loss_history=[]"
      ]
    },
    {
      "cell_type": "code",
      "execution_count": 65,
      "metadata": {
        "colab": {
          "base_uri": "https://localhost:8080/"
        },
        "id": "o3iiAJOBJOzY",
        "outputId": "407a409b-a538-485a-a01b-fb73e0fa0ff3"
      },
      "outputs": [
        {
          "output_type": "stream",
          "name": "stdout",
          "text": [
            "Iteration: 500. Loss: 1.2271395921707153. Accuracy: 36.41666793823242\n",
            "Iteration: 1000. Loss: 1.0649633407592773. Accuracy: 46.66666793823242\n",
            "Iteration: 1500. Loss: 0.8677563667297363. Accuracy: 51.5\n",
            "Iteration: 2000. Loss: 0.542347252368927. Accuracy: 59.25\n",
            "Iteration: 2500. Loss: 0.4925467371940613. Accuracy: 64.41666412353516\n",
            "Iteration: 3000. Loss: 0.3151572346687317. Accuracy: 74.83333587646484\n",
            "Iteration: 3500. Loss: 0.3904857337474823. Accuracy: 65.58333587646484\n",
            "Iteration: 4000. Loss: 0.3685695230960846. Accuracy: 62.66666793823242\n",
            "Iteration: 4500. Loss: 0.20964550971984863. Accuracy: 70.08333587646484\n",
            "Iteration: 5000. Loss: 0.5854185223579407. Accuracy: 68.66666412353516\n",
            "Iteration: 5500. Loss: 0.13819369673728943. Accuracy: 68.08333587646484\n",
            "Iteration: 6000. Loss: 0.08767416328191757. Accuracy: 75.75\n",
            "Iteration: 6500. Loss: 0.04724891856312752. Accuracy: 71.08333587646484\n",
            "Iteration: 7000. Loss: 0.018087239935994148. Accuracy: 69.41666412353516\n",
            "Iteration: 7500. Loss: 0.09239988029003143. Accuracy: 70.25\n",
            "Iteration: 8000. Loss: 0.013655068352818489. Accuracy: 72.25\n",
            "Iteration: 8500. Loss: 0.004721552133560181. Accuracy: 72.16666412353516\n",
            "Iteration: 9000. Loss: 0.0024830123875290155. Accuracy: 74.25\n",
            "Iteration: 9500. Loss: 0.0015393918147310615. Accuracy: 73.08333587646484\n",
            "Iteration: 10000. Loss: 0.0016144103137776256. Accuracy: 73.91666412353516\n",
            "Iteration: 10500. Loss: 0.0019825913477689028. Accuracy: 73.75\n",
            "Iteration: 11000. Loss: 0.0023023069370537996. Accuracy: 73.83333587646484\n",
            "Iteration: 11500. Loss: 0.0011182093294337392. Accuracy: 73.91666412353516\n",
            "Iteration: 12000. Loss: 0.0010888662654906511. Accuracy: 73.66666412353516\n"
          ]
        }
      ],
      "source": [
        "'''\n",
        "STEP 7: TRAIN THE MODEL\n",
        "'''\n",
        "iter = 0\n",
        "for epoch in range(num_epochs):\n",
        "    for i, (images, labels) in enumerate(train_loader):\n",
        "\n",
        "        #######################\n",
        "        #  USE GPU FOR MODEL  #\n",
        "        #######################\n",
        "\n",
        "        # Feed input to GPU\n",
        "        images = images.requires_grad_().to(device)\n",
        "        labels = labels.to(device)\n",
        "\n",
        "        # Clear gradients w.r.t. parameters\n",
        "        optimizer.zero_grad()\n",
        "\n",
        "        # Forward pass to get output/logits\n",
        "        outputs = model1(images)\n",
        "\n",
        "        # Calculate Loss: softmax --> cross entropy loss\n",
        "        loss = criterion(outputs, labels)\n",
        "\n",
        "        # Getting gradients w.r.t. parameters\n",
        "        loss.backward()\n",
        "\n",
        "        # Updating parameters\n",
        "        optimizer.step()\n",
        "\n",
        "        iter += 1\n",
        "\n",
        "        if iter % 500 == 0:\n",
        "            # Calculate Accuracy\n",
        "            correct = 0\n",
        "            total = 0\n",
        "            # Iterate through test dataset\n",
        "            for images, labels in valid_loader:\n",
        "                #######################\n",
        "                #  USE GPU FOR MODEL  #\n",
        "                #######################\n",
        "                images = images.requires_grad_().to(device)\n",
        "                labels = labels.to(device)\n",
        "\n",
        "                # Forward pass only to get logits/output\n",
        "                outputs = model1(images)\n",
        "\n",
        "                # Get predictions from the maximum value\n",
        "                _, predicted = torch.max(outputs.data, 1)\n",
        "\n",
        "                # Total number of labels\n",
        "                total += labels.size(0)\n",
        "\n",
        "                #######################\n",
        "                #  USE GPU FOR MODEL  #\n",
        "                #######################\n",
        "                # Total correct predictions\n",
        "\n",
        "                if torch.cuda.is_available():\n",
        "                    correct += (predicted.cpu() == labels.cpu()).sum()\n",
        "                else:\n",
        "                    correct += (predicted == labels).sum()\n",
        "\n",
        "            accuracy = 100 * correct / total\n",
        "\n",
        "            accuracy_history.append(accuracy)\n",
        "            iteration_history.append(iter)\n",
        "            loss_history.append(loss.item())\n",
        "            # Print Loss\n",
        "            print('Iteration: {}. Loss: {}. Accuracy: {}'.format(iter, loss.item(), accuracy))"
      ]
    },
    {
      "cell_type": "code",
      "execution_count": 66,
      "metadata": {
        "id": "xvclLjMgKr3X"
      },
      "outputs": [],
      "source": [
        "import matplotlib.pyplot as plt\n",
        "import seaborn as sns\n",
        "from sklearn.metrics import confusion_matrix\n",
        "import numpy as np"
      ]
    },
    {
      "cell_type": "code",
      "execution_count": 67,
      "metadata": {
        "id": "_YcSIB-X-HPU",
        "outputId": "3c06cd8c-2bfd-46ad-c3fe-15d59bf22ff8",
        "colab": {
          "base_uri": "https://localhost:8080/",
          "height": 447
        }
      },
      "outputs": [
        {
          "output_type": "execute_result",
          "data": {
            "text/plain": [
              "[<matplotlib.lines.Line2D at 0x7b41c0cf3990>]"
            ]
          },
          "metadata": {},
          "execution_count": 67
        },
        {
          "output_type": "display_data",
          "data": {
            "text/plain": [
              "<Figure size 640x480 with 1 Axes>"
            ],
            "image/png": "[encoded data removed]"
          },
          "metadata": {}
        }
      ],
      "source": [
        "plt.plot(iteration_history, accuracy_history, color='blue')\n",
        "plt.plot(iteration_history, loss_history, color='red')"
      ]
    },
    {
      "cell_type": "code",
      "source": [
        "from PIL import Image\n",
        "test_images = []\n",
        "image_paths = []  # Lưu trữ đường dẫn của ảnh\n",
        "\n",
        "# Duyệt qua từng ảnh trong thư mục\n",
        "for image_name in os.listdir(r'test'):\n",
        "    image_path = os.path.join('test', image_name)\n",
        "    # Mở ảnh và chuyển đổi thành tensor\n",
        "    image = Image.open(image_path)\n",
        "    image = transform(image)\n",
        "    # Lưu ảnh và đường dẫn vào biến\n",
        "    test_images.append(image)"
      ],
      "metadata": {
        "id": "kZuXGvBQDnJK"
      },
      "execution_count": 69,
      "outputs": []
    },
    {
      "cell_type": "code",
      "execution_count": 76,
      "metadata": {
        "id": "_2OSEvSTCUy-"
      },
      "outputs": [],
      "source": [
        "# Assuming model1 is your trained model and is already on the correct device (CPU or GPU)\n",
        "\n",
        "model1.eval()  # Set model to evaluation mode\n",
        "\n",
        "predictions = []\n",
        "with torch.no_grad():  # Disable gradient calculation during inference\n",
        "    for image in test_images:\n",
        "        # If your model expects images on a specific device (e.g., GPU), move the image:\n",
        "        image = image.to(device)\n",
        "\n",
        "        # Reshape the image if necessary (e.g., add a batch dimension):\n",
        "        image = image.unsqueeze(0)\n",
        "\n",
        "        # Get model output\n",
        "        output = model1(image)\n",
        "\n",
        "        # Get predicted class (assuming your model outputs logits)\n",
        "        _, predicted_class = torch.max(output, 1)\n",
        "\n",
        "        # Append prediction to the list\n",
        "        predictions.append(predicted_class.item())\n"
      ]
    },
    {
      "cell_type": "code",
      "source": [
        "predictions"
      ],
      "metadata": {
        "id": "LAQqfY-QFL_L",
        "outputId": "218bfa19-bc1b-4097-fb08-510036199d3d",
        "colab": {
          "base_uri": "https://localhost:8080/"
        }
      },
      "execution_count": 77,
      "outputs": [
        {
          "output_type": "execute_result",
          "data": {
            "text/plain": [
              "[0,\n",
              " 3,\n",
              " 2,\n",
              " 3,\n",
              " 3,\n",
              " 1,\n",
              " 1,\n",
              " 1,\n",
              " 0,\n",
              " 0,\n",
              " 2,\n",
              " 0,\n",
              " 2,\n",
              " 3,\n",
              " 3,\n",
              " 0,\n",
              " 3,\n",
              " 3,\n",
              " 0,\n",
              " 2,\n",
              " 3,\n",
              " 3,\n",
              " 2,\n",
              " 1,\n",
              " 3,\n",
              " 2,\n",
              " 0,\n",
              " 0,\n",
              " 3,\n",
              " 2,\n",
              " 3,\n",
              " 2,\n",
              " 3,\n",
              " 3,\n",
              " 1,\n",
              " 1,\n",
              " 0,\n",
              " 2,\n",
              " 0,\n",
              " 0,\n",
              " 0,\n",
              " 1,\n",
              " 0,\n",
              " 3,\n",
              " 2,\n",
              " 1,\n",
              " 3,\n",
              " 1,\n",
              " 2,\n",
              " 1,\n",
              " 0,\n",
              " 2,\n",
              " 2,\n",
              " 2,\n",
              " 0,\n",
              " 1,\n",
              " 2,\n",
              " 2,\n",
              " 0,\n",
              " 0,\n",
              " 2,\n",
              " 0,\n",
              " 0,\n",
              " 1,\n",
              " 3,\n",
              " 2,\n",
              " 0,\n",
              " 0,\n",
              " 1,\n",
              " 1,\n",
              " 3,\n",
              " 2,\n",
              " 3,\n",
              " 1,\n",
              " 1,\n",
              " 3,\n",
              " 1,\n",
              " 2,\n",
              " 2,\n",
              " 2,\n",
              " 3,\n",
              " 2,\n",
              " 1,\n",
              " 3,\n",
              " 1,\n",
              " 0,\n",
              " 2,\n",
              " 2,\n",
              " 1,\n",
              " 3,\n",
              " 0,\n",
              " 1,\n",
              " 3,\n",
              " 2,\n",
              " 3,\n",
              " 0,\n",
              " 3,\n",
              " 3,\n",
              " 0,\n",
              " 1,\n",
              " 0,\n",
              " 2,\n",
              " 2,\n",
              " 1,\n",
              " 1,\n",
              " 0,\n",
              " 3,\n",
              " 2,\n",
              " 3,\n",
              " 2,\n",
              " 3,\n",
              " 1,\n",
              " 0,\n",
              " 1,\n",
              " 3,\n",
              " 3,\n",
              " 0,\n",
              " 2,\n",
              " 0,\n",
              " 0,\n",
              " 0,\n",
              " 0,\n",
              " 0,\n",
              " 1,\n",
              " 2,\n",
              " 3,\n",
              " 2,\n",
              " 0,\n",
              " 1,\n",
              " 0,\n",
              " 0,\n",
              " 1,\n",
              " 1,\n",
              " 0,\n",
              " 3,\n",
              " 0,\n",
              " 1,\n",
              " 1,\n",
              " 0,\n",
              " 2,\n",
              " 0,\n",
              " 3,\n",
              " 2,\n",
              " 1,\n",
              " 3,\n",
              " 0,\n",
              " 2,\n",
              " 3,\n",
              " 2,\n",
              " 0,\n",
              " 0,\n",
              " 1,\n",
              " 2,\n",
              " 1,\n",
              " 0,\n",
              " 3,\n",
              " 3,\n",
              " 3,\n",
              " 0,\n",
              " 0,\n",
              " 3,\n",
              " 0,\n",
              " 3,\n",
              " 2,\n",
              " 0,\n",
              " 2,\n",
              " 3,\n",
              " 2,\n",
              " 0,\n",
              " 0,\n",
              " 1,\n",
              " 0,\n",
              " 1,\n",
              " 0,\n",
              " 2,\n",
              " 2,\n",
              " 0,\n",
              " 2,\n",
              " 0,\n",
              " 0,\n",
              " 2,\n",
              " 2,\n",
              " 2,\n",
              " 3,\n",
              " 0,\n",
              " 3,\n",
              " 1,\n",
              " 1,\n",
              " 1,\n",
              " 3,\n",
              " 2,\n",
              " 2,\n",
              " 0,\n",
              " 3,\n",
              " 2,\n",
              " 1,\n",
              " 3,\n",
              " 0,\n",
              " 2,\n",
              " 0]"
            ]
          },
          "metadata": {},
          "execution_count": 77
        }
      ]
    },
    {
      "cell_type": "code",
      "source": [
        "import pandas as pd\n",
        "real=pd.read_csv(r'submission.csv')['type'].to_numpy()\n",
        "real"
      ],
      "metadata": {
        "id": "y4kOEN3VFRf5",
        "outputId": "478d87bc-c7e5-492f-fce9-194c8b05c14e",
        "colab": {
          "base_uri": "https://localhost:8080/"
        }
      },
      "execution_count": 81,
      "outputs": [
        {
          "output_type": "execute_result",
          "data": {
            "text/plain": [
              "array([1, 2, 3, 0, 1, 2, 3, 0, 1, 2, 3, 0, 1, 2, 3, 0, 1, 2, 3, 0, 1, 2,\n",
              "       3, 0, 1, 2, 3, 0, 1, 2, 3, 0, 1, 2, 3, 0, 1, 2, 3, 0, 1, 2, 3, 0,\n",
              "       1, 2, 3, 0, 1, 2, 3, 0, 1, 2, 3, 0, 1, 2, 3, 0, 1, 2, 3, 0, 1, 2,\n",
              "       3, 0, 1, 2, 3, 0, 1, 2, 3, 0, 1, 2, 3, 0, 1, 2, 3, 0, 1, 2, 3, 0,\n",
              "       1, 2, 3, 0, 1, 2, 3, 0, 1, 2, 3, 0, 1, 2, 3, 0, 1, 2, 3, 0, 1, 2,\n",
              "       3, 0, 1, 2, 3, 0, 1, 2, 3, 0, 1, 2, 3, 0, 1, 2, 3, 0, 1, 2, 3, 0,\n",
              "       1, 2, 3, 0, 1, 2, 3, 0, 1, 2, 3, 0, 1, 2, 3, 0, 1, 2, 3, 0, 1, 2,\n",
              "       3, 0, 1, 2, 3, 0, 1, 2, 3, 0, 1, 2, 3, 0, 1, 2, 3, 0, 1, 2, 3, 0,\n",
              "       1, 2, 3, 0, 1, 2, 3, 0, 1, 2, 3, 0, 1, 2, 3, 0, 1, 2, 3, 0, 1, 2,\n",
              "       3, 0])"
            ]
          },
          "metadata": {},
          "execution_count": 81
        }
      ]
    },
    {
      "cell_type": "code",
      "source": [
        "from sklearn.metrics import accuracy_score\n",
        "accu=accuracy_score(real, predictions)\n",
        "accu"
      ],
      "metadata": {
        "id": "rs6rZMbvFo31",
        "outputId": "28542daa-01a3-479c-a47f-6d959705b893",
        "colab": {
          "base_uri": "https://localhost:8080/"
        }
      },
      "execution_count": 84,
      "outputs": [
        {
          "output_type": "execute_result",
          "data": {
            "text/plain": [
              "0.25"
            ]
          },
          "metadata": {},
          "execution_count": 84
        }
      ]
    },
    {
      "cell_type": "code",
      "source": [
        "# Step 3: Compute Confusion Matrix\n",
        "cm = confusion_matrix(real, predictions)\n",
        "\n",
        "# Step 4: Plot Confusion Matrix\n",
        "plt.figure(figsize=(8, 6))\n",
        "sns.heatmap(cm, annot=True, fmt='d', cmap='Blues')"
      ],
      "metadata": {
        "id": "pSf6eOrgDXxb",
        "outputId": "accb584b-93dd-465f-977a-47d691eb13da",
        "colab": {
          "base_uri": "https://localhost:8080/",
          "height": 539
        }
      },
      "execution_count": 82,
      "outputs": [
        {
          "output_type": "execute_result",
          "data": {
            "text/plain": [
              "<Axes: >"
            ]
          },
          "metadata": {},
          "execution_count": 82
        },
        {
          "output_type": "display_data",
          "data": {
            "text/plain": [
              "<Figure size 800x600 with 2 Axes>"
            ],
            "image/png": "[encoded data removed]"
          },
          "metadata": {}
        }
      ]
    }
  ],
  "metadata": {
    "accelerator": "GPU",
    "colab": {
      "gpuType": "L4",
      "provenance": [],
      "machine_shape": "hm",
      "include_colab_link": true
    },
    "kernelspec": {
      "display_name": "Python 3",
      "name": "python3"
    },
    "language_info": {
      "codemirror_mode": {
        "name": "ipython",
        "version": 3
      },
      "file_extension": ".py",
      "mimetype": "text/x-python",
      "name": "python",
      "nbconvert_exporter": "python",
      "pygments_lexer": "ipython3",
      "version": "3.12.4"
    }
  },
  "nbformat": 4,
  "nbformat_minor": 0
}